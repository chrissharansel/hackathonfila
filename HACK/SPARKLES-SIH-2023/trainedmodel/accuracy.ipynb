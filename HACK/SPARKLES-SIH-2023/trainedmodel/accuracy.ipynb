{
 "cells": [
  {
   "cell_type": "code",
   "execution_count": 1,
   "metadata": {},
   "outputs": [
    {
     "name": "stdout",
     "output_type": "stream",
     "text": [
      "WARNING:tensorflow:From c:\\Users\\chris\\AppData\\Local\\Programs\\Python\\Python311\\Lib\\site-packages\\keras\\src\\losses.py:2976: The name tf.losses.sparse_softmax_cross_entropy is deprecated. Please use tf.compat.v1.losses.sparse_softmax_cross_entropy instead.\n",
      "\n",
      "WARNING:tensorflow:From c:\\Users\\chris\\AppData\\Local\\Programs\\Python\\Python311\\Lib\\site-packages\\keras\\src\\saving\\legacy\\saved_model\\load.py:107: The name tf.gfile.Exists is deprecated. Please use tf.io.gfile.exists instead.\n",
      "\n",
      "WARNING:tensorflow:From c:\\Users\\chris\\AppData\\Local\\Programs\\Python\\Python311\\Lib\\site-packages\\keras\\src\\utils\\tf_utils.py:585: The name tf.executing_eagerly_outside_functions is deprecated. Please use tf.compat.v1.executing_eagerly_outside_functions instead.\n",
      "\n",
      "8/8 [==============================] - 0s 3ms/step\n",
      "Accuracy on the test set: 96.65%\n",
      "Confusion Matrix:\n",
      "[[195   6]\n",
      " [  2  36]]\n",
      "Classification Report:\n",
      "              precision    recall  f1-score   support\n",
      "\n",
      "         0.0       0.99      0.97      0.98       201\n",
      "         1.0       0.86      0.95      0.90        38\n",
      "\n",
      "    accuracy                           0.97       239\n",
      "   macro avg       0.92      0.96      0.94       239\n",
      "weighted avg       0.97      0.97      0.97       239\n",
      "\n"
     ]
    }
   ],
   "source": [
    "import json\n",
    "import numpy as np\n",
    "from sklearn.metrics import accuracy_score, confusion_matrix, classification_report\n",
    "import tensorflow as tf\n",
    "\n",
    "# Load data from JSON files\n",
    "def load_data(file_path):\n",
    "    with open(file_path, 'r') as f:\n",
    "        data = json.load(f)\n",
    "    return data\n",
    "\n",
    "# Load fake and real account data\n",
    "fake_data = load_data('fakeAccountData.json')\n",
    "real_data = load_data('realAccountData.json')\n",
    "\n",
    "# Combine both datasets\n",
    "all_data = fake_data + real_data\n",
    "\n",
    "# Shuffle the data\n",
    "np.random.shuffle(all_data)\n",
    "\n",
    "# Extract features and labels\n",
    "features = [list(sample.values())[:-1] for sample in all_data]\n",
    "labels = [sample['isFake'] for sample in all_data]\n",
    "\n",
    "# Convert lists to NumPy arrays\n",
    "X = np.array(features, dtype=np.float32)\n",
    "y = np.array(labels, dtype=np.float32)\n",
    "\n",
    "# Split the data into training and testing sets\n",
    "split_index = int(0.8 * len(X))\n",
    "X_train, X_test = X[:split_index], X[split_index:]\n",
    "y_train, y_test = y[:split_index], y[split_index:]\n",
    "\n",
    "# Load the pre-trained model\n",
    "loaded_model = tf.keras.models.load_model('trainedmodel')\n",
    "\n",
    "# Evaluate the loaded model\n",
    "loaded_y_pred = loaded_model.predict(X_test)\n",
    "loaded_y_pred_binary = (loaded_y_pred > 0.5).astype(int)\n",
    "\n",
    "# Calculate accuracy, confusion matrix, and classification report\n",
    "loaded_accuracy = accuracy_score(y_test, loaded_y_pred_binary)\n",
    "loaded_confusion_matrix = confusion_matrix(y_test, loaded_y_pred_binary)\n",
    "loaded_classification_report = classification_report(y_test, loaded_y_pred_binary)\n",
    "\n",
    "print(f\"Accuracy on the test set: {loaded_accuracy * 100:.2f}%\")\n",
    "print(\"Confusion Matrix:\")\n",
    "print(loaded_confusion_matrix)\n",
    "print(\"Classification Report:\")\n",
    "print(loaded_classification_report)\n"
   ]
  },
  {
   "cell_type": "code",
   "execution_count": null,
   "metadata": {},
   "outputs": [],
   "source": []
  }
 ],
 "metadata": {
  "kernelspec": {
   "display_name": "Python 3",
   "language": "python",
   "name": "python3"
  },
  "language_info": {
   "codemirror_mode": {
    "name": "ipython",
    "version": 3
   },
   "file_extension": ".py",
   "mimetype": "text/x-python",
   "name": "python",
   "nbconvert_exporter": "python",
   "pygments_lexer": "ipython3",
   "version": "3.11.5"
  }
 },
 "nbformat": 4,
 "nbformat_minor": 2
}
