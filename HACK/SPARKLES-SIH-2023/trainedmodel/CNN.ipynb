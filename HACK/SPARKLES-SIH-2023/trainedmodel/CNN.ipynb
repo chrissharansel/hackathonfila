{
 "cells": [
  {
   "cell_type": "code",
   "execution_count": 1,
   "metadata": {},
   "outputs": [
    {
     "name": "stdout",
     "output_type": "stream",
     "text": [
      "Requirement already satisfied: instaloader in c:\\users\\chris\\appdata\\local\\programs\\python\\python311\\lib\\site-packages (4.10.2)\n",
      "Requirement already satisfied: requests>=2.4 in c:\\users\\chris\\appdata\\local\\programs\\python\\python311\\lib\\site-packages (from instaloader) (2.31.0)\n",
      "Requirement already satisfied: charset-normalizer<4,>=2 in c:\\users\\chris\\appdata\\local\\programs\\python\\python311\\lib\\site-packages (from requests>=2.4->instaloader) (3.2.0)\n",
      "Requirement already satisfied: idna<4,>=2.5 in c:\\users\\chris\\appdata\\local\\programs\\python\\python311\\lib\\site-packages (from requests>=2.4->instaloader) (3.4)\n",
      "Requirement already satisfied: urllib3<3,>=1.21.1 in c:\\users\\chris\\appdata\\local\\programs\\python\\python311\\lib\\site-packages (from requests>=2.4->instaloader) (2.0.5)\n",
      "Requirement already satisfied: certifi>=2017.4.17 in c:\\users\\chris\\appdata\\local\\programs\\python\\python311\\lib\\site-packages (from requests>=2.4->instaloader) (2023.7.22)\n",
      "Note: you may need to restart the kernel to use updated packages.\n"
     ]
    }
   ],
   "source": [
    "pip install instaloader"
   ]
  },
  {
   "cell_type": "code",
   "execution_count": 3,
   "metadata": {},
   "outputs": [
    {
     "name": "stdout",
     "output_type": "stream",
     "text": [
      "Profile Picture URL: https://instagram.fmaa2-1.fna.fbcdn.net/v/t51.2885-19/359734373_1048814862777570_5154231266689476582_n.jpg?stp=dst-jpg_s320x320&_nc_ht=instagram.fmaa2-1.fna.fbcdn.net&_nc_cat=106&_nc_ohc=0jP1MzC03PsAX9QJrO1&edm=AOQ1c0wBAAAA&ccb=7-5&oh=00_AfC_LaImGd0Z2gneRfdujlvaCII-OgR2n05Y7h9B6vYZAQ&oe=65807104&_nc_sid=8b3546\n"
     ]
    }
   ],
   "source": [
    "import instaloader\n",
    "\n",
    "def get_profile_picture_url(username):\n",
    "    L = instaloader.Instaloader()\n",
    "\n",
    "    try:\n",
    "        # Load profile anonymously\n",
    "        profile = instaloader.Profile.from_username(L.context, username)\n",
    "\n",
    "        # Get profile picture URL\n",
    "        profile_picture_url = profile.get_profile_pic_url()\n",
    "\n",
    "        return profile_picture_url\n",
    "    except instaloader.ProfileNotExistsException:\n",
    "        print(f\"Profile with username '{username}' does not exist.\")\n",
    "        return None\n",
    "\n",
    "# Get username as input\n",
    "username_input = input(\"Enter the Instagram username: \")\n",
    "\n",
    "# Get profile picture URL\n",
    "profile_url = get_profile_picture_url(username_input)\n",
    "\n",
    "if profile_url:\n",
    "    print(f\"Profile Picture URL: {profile_url}\")\n",
    "else:\n",
    "    print(\"Unable to retrieve profile picture URL.\")\n"
   ]
  },
  {
   "cell_type": "code",
   "execution_count": 4,
   "metadata": {},
   "outputs": [
    {
     "name": "stdout",
     "output_type": "stream",
     "text": [
      "WARNING:tensorflow:From c:\\Users\\chris\\AppData\\Local\\Programs\\Python\\Python311\\Lib\\site-packages\\keras\\src\\losses.py:2976: The name tf.losses.sparse_softmax_cross_entropy is deprecated. Please use tf.compat.v1.losses.sparse_softmax_cross_entropy instead.\n",
      "\n",
      "Profile Picture URL: https://instagram.fmaa2-1.fna.fbcdn.net/v/t51.2885-19/359734373_1048814862777570_5154231266689476582_n.jpg?stp=dst-jpg_s320x320&_nc_ht=instagram.fmaa2-1.fna.fbcdn.net&_nc_cat=106&_nc_ohc=0jP1MzC03PsAX9QJrO1&edm=AOQ1c0wBAAAA&ccb=7-5&oh=00_AfC_LaImGd0Z2gneRfdujlvaCII-OgR2n05Y7h9B6vYZAQ&oe=65807104&_nc_sid=8b3546\n"
     ]
    },
    {
     "ename": "NameError",
     "evalue": "name 'io' is not defined",
     "output_type": "error",
     "traceback": [
      "\u001b[1;31m---------------------------------------------------------------------------\u001b[0m",
      "\u001b[1;31mNameError\u001b[0m                                 Traceback (most recent call last)",
      "Cell \u001b[1;32mIn[4], line 53\u001b[0m\n\u001b[0;32m     50\u001b[0m     \u001b[38;5;28mprint\u001b[39m(\u001b[38;5;124mf\u001b[39m\u001b[38;5;124m\"\u001b[39m\u001b[38;5;124mProfile Picture URL: \u001b[39m\u001b[38;5;132;01m{\u001b[39;00mprofile_url\u001b[38;5;132;01m}\u001b[39;00m\u001b[38;5;124m\"\u001b[39m)\n\u001b[0;32m     52\u001b[0m     \u001b[38;5;66;03m# Classify profile picture\u001b[39;00m\n\u001b[1;32m---> 53\u001b[0m     \u001b[43mclassify_profile_picture\u001b[49m\u001b[43m(\u001b[49m\u001b[43mprofile_url\u001b[49m\u001b[43m)\u001b[49m\n\u001b[0;32m     54\u001b[0m \u001b[38;5;28;01melse\u001b[39;00m:\n\u001b[0;32m     55\u001b[0m     \u001b[38;5;28mprint\u001b[39m(\u001b[38;5;124m\"\u001b[39m\u001b[38;5;124mUnable to retrieve profile picture URL.\u001b[39m\u001b[38;5;124m\"\u001b[39m)\n",
      "Cell \u001b[1;32mIn[4], line 25\u001b[0m, in \u001b[0;36mclassify_profile_picture\u001b[1;34m(profile_url)\u001b[0m\n\u001b[0;32m     22\u001b[0m \u001b[38;5;28;01mdef\u001b[39;00m \u001b[38;5;21mclassify_profile_picture\u001b[39m(profile_url):\n\u001b[0;32m     23\u001b[0m     \u001b[38;5;66;03m# Download the image\u001b[39;00m\n\u001b[0;32m     24\u001b[0m     response \u001b[38;5;241m=\u001b[39m requests\u001b[38;5;241m.\u001b[39mget(profile_url)\n\u001b[1;32m---> 25\u001b[0m     img \u001b[38;5;241m=\u001b[39m image\u001b[38;5;241m.\u001b[39mimg_to_array(image\u001b[38;5;241m.\u001b[39mload_img(\u001b[43mio\u001b[49m\u001b[38;5;241m.\u001b[39mBytesIO(response\u001b[38;5;241m.\u001b[39mcontent), target_size\u001b[38;5;241m=\u001b[39m(\u001b[38;5;241m224\u001b[39m, \u001b[38;5;241m224\u001b[39m)))\n\u001b[0;32m     26\u001b[0m     img \u001b[38;5;241m=\u001b[39m np\u001b[38;5;241m.\u001b[39mexpand_dims(img, axis\u001b[38;5;241m=\u001b[39m\u001b[38;5;241m0\u001b[39m)\n\u001b[0;32m     27\u001b[0m     img \u001b[38;5;241m=\u001b[39m preprocess_input(img)\n",
      "\u001b[1;31mNameError\u001b[0m: name 'io' is not defined"
     ]
    }
   ],
   "source": [
    "import instaloader\n",
    "import requests\n",
    "from tensorflow.keras.preprocessing import image\n",
    "from tensorflow.keras.applications.vgg16 import VGG16, preprocess_input, decode_predictions\n",
    "import numpy as np\n",
    "\n",
    "def get_profile_picture_url(username):\n",
    "    L = instaloader.Instaloader()\n",
    "\n",
    "    try:\n",
    "        # Load profile anonymously\n",
    "        profile = instaloader.Profile.from_username(L.context, username)\n",
    "\n",
    "        # Get profile picture URL\n",
    "        profile_picture_url = profile.get_profile_pic_url()\n",
    "\n",
    "        return profile_picture_url\n",
    "    except instaloader.ProfileNotExistsException:\n",
    "        print(f\"Profile with username '{username}' does not exist.\")\n",
    "        return None\n",
    "\n",
    "def classify_profile_picture(profile_url):\n",
    "    # Download the image\n",
    "    response = requests.get(profile_url)\n",
    "    img = image.img_to_array(image.load_img(io.BytesIO(response.content), target_size=(224, 224)))\n",
    "    img = np.expand_dims(img, axis=0)\n",
    "    img = preprocess_input(img)\n",
    "\n",
    "    # Load pre-trained VGG16 model\n",
    "    model = VGG16(weights='imagenet')\n",
    "\n",
    "    # Predict the class probabilities\n",
    "    predictions = model.predict(img)\n",
    "\n",
    "    # Decode predictions\n",
    "    decoded_predictions = decode_predictions(predictions)\n",
    "\n",
    "    # Print the top prediction\n",
    "    top_prediction = decoded_predictions[0][0]\n",
    "    print(f\"Prediction: {top_prediction[1]} ({top_prediction[2] * 100:.2f}%)\")\n",
    "\n",
    "if __name__ == \"__main__\":\n",
    "    # Get username as input\n",
    "    username_input = input(\"Enter the Instagram username: \")\n",
    "\n",
    "    # Get profile picture URL\n",
    "    profile_url = get_profile_picture_url(username_input)\n",
    "\n",
    "    if profile_url:\n",
    "        print(f\"Profile Picture URL: {profile_url}\")\n",
    "\n",
    "        # Classify profile picture\n",
    "        classify_profile_picture(profile_url)\n",
    "    else:\n",
    "        print(\"Unable to retrieve profile picture URL.\")\n"
   ]
  }
 ],
 "metadata": {
  "kernelspec": {
   "display_name": "Python 3",
   "language": "python",
   "name": "python3"
  },
  "language_info": {
   "codemirror_mode": {
    "name": "ipython",
    "version": 3
   },
   "file_extension": ".py",
   "mimetype": "text/x-python",
   "name": "python",
   "nbconvert_exporter": "python",
   "pygments_lexer": "ipython3",
   "version": "3.11.5"
  }
 },
 "nbformat": 4,
 "nbformat_minor": 2
}
